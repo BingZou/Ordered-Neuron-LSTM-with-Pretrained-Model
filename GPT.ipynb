{
 "cells": [
  {
   "cell_type": "code",
   "execution_count": 1,
   "metadata": {},
   "outputs": [
    {
     "name": "stdout",
     "output_type": "stream",
     "text": [
      "Better speed can be achieved with apex installed from https://www.github.com/nvidia/apex.\n"
     ]
    },
    {
     "name": "stderr",
     "output_type": "stream",
     "text": [
      "INFO:pytorch_pretrained_bert.tokenization_openai:loading vocabulary file https://s3.amazonaws.com/models.huggingface.co/bert/openai-gpt-vocab.json from cache at /home/yh1844/.pytorch_pretrained_bert/4ab93d0cd78ae80e746c27c9cd34e90b470abdabe0590c9ec742df61625ba310.b9628f6fe5519626534b82ce7ec72b22ce0ae79550325f45c604a25c0ad87fd6\n",
      "INFO:pytorch_pretrained_bert.tokenization_openai:loading merges file https://s3.amazonaws.com/models.huggingface.co/bert/openai-gpt-merges.txt from cache at /home/yh1844/.pytorch_pretrained_bert/0f8de0dbd6a2bb6bde7d758f4c120dd6dd20b46f2bf0a47bc899c89f46532fde.20808570f9a3169212a577f819c845330da870aeb14c40f7319819fce10c3b76\n",
      "INFO:pytorch_pretrained_bert.modeling_openai:loading weights file https://s3.amazonaws.com/models.huggingface.co/bert/openai-gpt-pytorch_model.bin from cache at /home/yh1844/.pytorch_pretrained_bert/e45ee1afb14c5d77c946e66cb0fa70073a77882097a1a2cefd51fd24b172355e.e7ee3fcd07c695a4c9f31ca735502c090230d988de03202f7af9ebe1c3a4054c\n",
      "INFO:pytorch_pretrained_bert.modeling_openai:loading configuration file https://s3.amazonaws.com/models.huggingface.co/bert/openai-gpt-config.json from cache at /home/yh1844/.pytorch_pretrained_bert/a27bb7c70e9002d7558d2682d5a95f3c0a8b31034616309459e0b51ef07ade09.f59b19eb0e361a0230a1106b66b8c6e7a994cb200cd63d9190cda8d56d75ff85\n",
      "INFO:pytorch_pretrained_bert.modeling_openai:Model config {\n",
      "  \"afn\": \"gelu\",\n",
      "  \"attn_pdrop\": 0.1,\n",
      "  \"embd_pdrop\": 0.1,\n",
      "  \"initializer_range\": 0.02,\n",
      "  \"layer_norm_epsilon\": 1e-05,\n",
      "  \"n_ctx\": 512,\n",
      "  \"n_embd\": 768,\n",
      "  \"n_head\": 12,\n",
      "  \"n_layer\": 12,\n",
      "  \"n_positions\": 512,\n",
      "  \"n_special\": 0,\n",
      "  \"resid_pdrop\": 0.1,\n",
      "  \"vocab_size\": 40478\n",
      "}\n",
      "\n"
     ]
    }
   ],
   "source": [
    "import torch\n",
    "from pytorch_pretrained_bert import OpenAIGPTTokenizer, OpenAIGPTModel, OpenAIGPTLMHeadModel\n",
    "\n",
    "# OPTIONAL: if you want to have more information on what's happening, activate the logger as follows\n",
    "import logging\n",
    "logging.basicConfig(level=logging.INFO)\n",
    "\n",
    "# Load pre-trained model tokenizer (vocabulary)\n",
    "tokenizer = OpenAIGPTTokenizer.from_pretrained('openai-gpt')\n",
    "\n",
    "# Tokenized input\n",
    "text = \"Who was Henson ? A puppeteer\"\n",
    "tokenized_text = tokenizer.tokenize(text)\n",
    "\n",
    "# Get index for the first and the last token\n",
    "ind = torch.zeros(2*len(text.split()), dtype=torch.long)\n",
    "ind[1:] = torch.LongTensor([x for i, s in enumerate(tokenized_text) if '</w>' in s for x in (i, i+1)][:-1])\n",
    "\n",
    "# Convert token to vocabulary indices\n",
    "indexed_tokens = tokenizer.convert_tokens_to_ids(tokenized_text)\n",
    "\n",
    "# Convert inputs to PyTorch tensors\n",
    "tokens_tensor = torch.tensor([indexed_tokens])\n",
    "\n",
    "# Load pretrained model\n",
    "model = OpenAIGPTModel.from_pretrained('openai-gpt')\n",
    "tokens_tensor = tokens_tensor.to('cuda')\n",
    "model.to('cuda')\n",
    "model.eval()\n",
    "\n",
    "# Get hidden states\n",
    "with torch.no_grad():\n",
    "    hidden_states = model(tokens_tensor)\n",
    "\n",
    "# Sum\n",
    "hidden_new = hidden_states[:, ind, :]\n",
    "hidden_new = torch.nn.functional.avg_pool1d(hidden_new.permute(0, 2, 1), 2)\n",
    "hidden_new = hidden_new * 2\n",
    "hidden_new = hidden_new.permute(0, 2, 1)"
   ]
  },
  {
   "cell_type": "code",
   "execution_count": 2,
   "metadata": {},
   "outputs": [
    {
     "data": {
      "text/plain": [
       "['who</w>',\n",
       " 'was</w>',\n",
       " 'hen',\n",
       " 'son</w>',\n",
       " '?</w>',\n",
       " 'a</w>',\n",
       " 'pupp',\n",
       " 'ete',\n",
       " 'er</w>']"
      ]
     },
     "execution_count": 2,
     "metadata": {},
     "output_type": "execute_result"
    }
   ],
   "source": [
    "tokenized_text"
   ]
  },
  {
   "cell_type": "code",
   "execution_count": 3,
   "metadata": {},
   "outputs": [
    {
     "data": {
      "text/plain": [
       "(9, 6)"
      ]
     },
     "execution_count": 3,
     "metadata": {},
     "output_type": "execute_result"
    }
   ],
   "source": [
    "len(tokenized_text), len(text.split())"
   ]
  },
  {
   "cell_type": "code",
   "execution_count": 4,
   "metadata": {},
   "outputs": [
    {
     "data": {
      "text/plain": [
       "tensor([0, 0, 1, 1, 2, 3, 4, 4, 5, 5, 6, 8])"
      ]
     },
     "execution_count": 4,
     "metadata": {},
     "output_type": "execute_result"
    }
   ],
   "source": [
    "ind"
   ]
  },
  {
   "cell_type": "code",
   "execution_count": 5,
   "metadata": {},
   "outputs": [
    {
     "data": {
      "text/plain": [
       "torch.Size([1, 9, 768])"
      ]
     },
     "execution_count": 5,
     "metadata": {},
     "output_type": "execute_result"
    }
   ],
   "source": [
    "hidden_states.size()"
   ]
  },
  {
   "cell_type": "code",
   "execution_count": 6,
   "metadata": {},
   "outputs": [
    {
     "data": {
      "text/plain": [
       "torch.Size([1, 6, 768])"
      ]
     },
     "execution_count": 6,
     "metadata": {},
     "output_type": "execute_result"
    }
   ],
   "source": [
    "hidden_new.size()"
   ]
  },
  {
   "cell_type": "code",
   "execution_count": 8,
   "metadata": {},
   "outputs": [
    {
     "data": {
      "text/plain": [
       "tensor([[[ 1.9630e-01,  3.6651e-02, -2.0514e-01,  ...,  7.0617e-01,\n",
       "          -2.7861e-01,  1.3519e-01],\n",
       "         [-4.7051e-01,  1.5814e-01,  4.5239e-02,  ...,  7.8089e-01,\n",
       "          -2.5194e-01,  4.2565e-01],\n",
       "         [-5.1667e-01,  1.5813e+00, -9.7937e-01,  ..., -8.6645e-01,\n",
       "          -3.4789e-03,  8.8305e-01],\n",
       "         ...,\n",
       "         [-5.0072e-01,  1.1430e+00, -2.0425e+00,  ..., -1.2931e+00,\n",
       "          -1.7080e+00,  7.1497e-01],\n",
       "         [-9.5884e-01,  2.7438e+00, -2.4036e+00,  ..., -1.1663e+00,\n",
       "           2.4865e-01,  2.0937e-01],\n",
       "         [ 4.2721e-01,  5.9180e-01,  2.3758e-01,  ..., -1.5640e-01,\n",
       "          -6.8987e-01, -3.9058e-01]]], device='cuda:0')"
      ]
     },
     "execution_count": 8,
     "metadata": {},
     "output_type": "execute_result"
    }
   ],
   "source": [
    "hidden_states"
   ]
  },
  {
   "cell_type": "code",
   "execution_count": 9,
   "metadata": {},
   "outputs": [
    {
     "data": {
      "text/plain": [
       "tensor([[[  0.3926,   0.0733,  -0.4103,  ...,   1.4123,  -0.5572,   0.2704],\n",
       "         [ -0.9410,   0.3163,   0.0905,  ...,   1.5618,  -0.5039,   0.8513],\n",
       "         [ -0.2563,   1.3620,  -0.7539,  ...,  -0.4810,  -0.2442,   0.2666],\n",
       "         [  0.6172,  -1.6505,   1.0711,  ...,   0.2621,   0.1283,  -0.8820],\n",
       "         [  0.5773,  -0.7505,   0.5090,  ...,   0.2849,   0.1030,  -0.0947],\n",
       "         [ -0.0735,   1.7348,  -1.8049,  ...,  -1.4495,  -2.3978,   0.3244]]],\n",
       "       device='cuda:0')"
      ]
     },
     "execution_count": 9,
     "metadata": {},
     "output_type": "execute_result"
    }
   ],
   "source": [
    "hidden_new"
   ]
  },
  {
   "cell_type": "code",
   "execution_count": 10,
   "metadata": {},
   "outputs": [
    {
     "data": {
      "text/plain": [
       "-0.7351000000000001"
      ]
     },
     "execution_count": 10,
     "metadata": {},
     "output_type": "execute_result"
    }
   ],
   "source": [
    "4.2721 - 5.0072"
   ]
  },
  {
   "cell_type": "code",
   "execution_count": null,
   "metadata": {},
   "outputs": [],
   "source": []
  }
 ],
 "metadata": {
  "kernelspec": {
   "display_name": "Python 3",
   "language": "python",
   "name": "python3"
  },
  "language_info": {
   "codemirror_mode": {
    "name": "ipython",
    "version": 3
   },
   "file_extension": ".py",
   "mimetype": "text/x-python",
   "name": "python",
   "nbconvert_exporter": "python",
   "pygments_lexer": "ipython3",
   "version": "3.6.3"
  }
 },
 "nbformat": 4,
 "nbformat_minor": 2
}
